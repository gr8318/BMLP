{
  "nbformat": 4,
  "nbformat_minor": 0,
  "metadata": {
    "colab": {
      "provenance": [],
      "authorship_tag": "ABX9TyPYzyLpdiAQ/K49H5u7JkGv",
      "include_colab_link": true
    },
    "kernelspec": {
      "name": "python3",
      "display_name": "Python 3"
    },
    "language_info": {
      "name": "python"
    }
  },
  "cells": [
    {
      "cell_type": "markdown",
      "metadata": {
        "id": "view-in-github",
        "colab_type": "text"
      },
      "source": [
        "<a href=\"https://colab.research.google.com/github/gr8318/BMLP/blob/main/CT2_DL.ipynb\" target=\"_parent\"><img src=\"https://colab.research.google.com/assets/colab-badge.svg\" alt=\"Open In Colab\"/></a>"
      ]
    },
    {
      "cell_type": "code",
      "execution_count": null,
      "metadata": {
        "id": "lcaoYQbl93XW"
      },
      "outputs": [],
      "source": [
        "import tensorflow as tf\n",
        "from tensorflow.keras import datasets, layers, models\n",
        "import matplotlib.pyplot as plt\n",
        "\n",
        "(x_train,y_train),(x_test,y_test)=datasets.cifar10.load_data()\n",
        "x_train,x_test=x_train/255.0,x_test/255.0\n",
        "classes=['Airplane','Car','Bird','Cat','Deer','Dog','Frog','Horse','Ship','Truck']\n",
        "\n",
        "model=models.Sequential([\n",
        "    layers.Conv2D(32,(3,3),activation='relu',input_shape=(32,32,3)),\n",
        "    layers.MaxPooling2D(2,2),\n",
        "    layers.Conv2D(64,(3,3),activation='relu'),\n",
        "    layers.MaxPooling2D(2,2),\n",
        "    layers.Flatten(),\n",
        "    layers.Dense(64,activation='relu'),\n",
        "    layers.Dense(10)\n",
        "])\n",
        "model.compile(optimizer='adam',\n",
        "              loss=tf.keras.losses.SparseCategoricalCrossentropy(from_logits=True),\n",
        "              metrics=['accuracy'])\n",
        "model.fit(x_train,y_train,epochs=15,batch_size=64,\n",
        "          validation_data=(x_test,y_test))\n",
        "print(\"Test Accuracy:\",model.evaluate(x_test,y_test,verbose=0)[1])"
      ]
    },
    {
      "cell_type": "code",
      "source": [
        "import tensorflow as tf\n",
        "from tensorflow.keras.preprocessing import image_dataset_from_directory\n",
        "from tensorflow.keras.layers import Dense, Softmax\n",
        "from tensorflow.keras.models import Sequential\n",
        "from tensorflow.keras.losses import SparseCategoricalCrossentropy\n",
        "import kagglehub\n",
        "\n",
        "path = kagglehub.dataset_download(\"samuelcortinhas/cats-and-dogs-image-classification\")\n",
        "print(\"Path to dataset files:\", path)\n",
        "\n",
        "img_height, img_width = 32, 32\n",
        "batch_size = 64\n",
        "\n",
        "train_dataset = image_dataset_from_directory(\n",
        "    f\"{path}/train\",\n",
        "    image_size=(img_height, img_width),\n",
        "    batch_size=batch_size,\n",
        "    label_mode=\"int\"\n",
        ")\n",
        "\n",
        "test_dataset = image_dataset_from_directory(\n",
        "    f\"{path}/test\",\n",
        "    image_size=(img_height, img_width),\n",
        "    batch_size=batch_size,\n",
        "    label_mode=\"int\"\n",
        ")\n",
        "\n",
        "def flatten_and_normalize(images, labels):\n",
        "    images = tf.reshape(images, (tf.shape(images)[0], -1)) / 255.0\n",
        "    return images, labels\n",
        "\n",
        "train_dataset = train_dataset.map(flatten_and_normalize)\n",
        "test_dataset = test_dataset.map(flatten_and_normalize)\n",
        "\n",
        "class_names = [\"cat\", \"dog\"]\n",
        "num_classes = len(class_names)\n",
        "input_shape = img_height * img_width * 3\n",
        "\n",
        "model = Sequential([\n",
        "    Dense(512, activation='relu', input_shape=(input_shape,)),\n",
        "    Dense(256, activation='relu'),\n",
        "    Dense(num_classes)\n",
        "])\n",
        "\n",
        "model.compile(\n",
        "    optimizer='adam',\n",
        "    loss=SparseCategoricalCrossentropy(from_logits=True),\n",
        "    metrics=['accuracy']\n",
        ")\n",
        "\n",
        "model.fit(train_dataset, epochs=10, validation_data=test_dataset)\n",
        "\n",
        "test_loss, test_acc = model.evaluate(test_dataset)\n",
        "print(f\"Test accuracy: {test_acc:.2f}\")\n",
        "\n",
        "probability_model = Sequential([\n",
        "    model,\n",
        "    Softmax()\n",
        "])\n",
        "\n",
        "for images, labels in test_dataset.take(1):\n",
        "    predictions = probability_model.predict(images)\n",
        "    for i in range(5):\n",
        "        print(f\"Predicted: {class_names[tf.argmax(predictions[i])]}, True: {class_names[labels[i]]}\")"
      ],
      "metadata": {
        "id": "leiqd8nn-kmm"
      },
      "execution_count": null,
      "outputs": []
    },
    {
      "cell_type": "code",
      "source": [
        "import tensorflow as tf\n",
        "from tensorflow.keras import datasets\n",
        "from tensorflow.keras import layers, models\n",
        "\n",
        "(x_train, y_train), (x_test, y_test) = datasets.mnist.load_data()\n",
        "\n",
        "x_train = x_train.reshape(-1,28,28,1).astype(\"float32\") / 255.0\n",
        "x_test = x_test.reshape(-1,28,28,1).astype(\"float32\") / 255.0\n",
        "\n",
        "model = models.Sequential([\n",
        "    layers.Conv2D(32, (3,3), activation=\"relu\", input_shape=(28,28,1)),\n",
        "    layers.MaxPooling2D((2,2)),\n",
        "\n",
        "    layers.Conv2D(64, (3,3), activation=\"relu\"),\n",
        "    layers.MaxPooling2D((2,2)),\n",
        "\n",
        "    layers.Flatten(),\n",
        "    layers.Dense(128, activation=\"relu\"),\n",
        "    layers.Dense(10, activation=\"softmax\")\n",
        "\n",
        "model.compile(optimizer=\"adam\",\n",
        "              loss=\"sparse_categorical_crossentropy\",\n",
        "              metrics=[\"accuracy\"])\n",
        "model.fit(x_train, y_train, epochs=5, validation_split=0.1)\n",
        "loss, acc = model.evaluate(x_test, y_test)\n",
        "print(f\"Test Accuracy: {acc*100:.2f}%\")\n",
        "import numpy as np\n",
        "import matplotlib.pyplot as plt\n",
        "\n",
        "img = x_test[4]\n",
        "plt.imshow(img.squeeze(), cmap=\"gray\")\n",
        "plt.title(\"Input Digit\")\n",
        "plt.show()\n",
        "\n",
        "pred = model.predict(np.expand_dims(img, axis=0))\n",
        "print(\"Predicted digit:\", pred.argmax())"
      ],
      "metadata": {
        "colab": {
          "base_uri": "https://localhost:8080/",
          "height": 767
        },
        "id": "cPA-myumJYiT",
        "outputId": "99ba81b3-d95f-4539-dc0d-abd733a3cfe9"
      },
      "execution_count": 19,
      "outputs": [
        {
          "output_type": "stream",
          "name": "stderr",
          "text": [
            "/usr/local/lib/python3.12/dist-packages/keras/src/layers/convolutional/base_conv.py:113: UserWarning: Do not pass an `input_shape`/`input_dim` argument to a layer. When using Sequential models, prefer using an `Input(shape)` object as the first layer in the model instead.\n",
            "  super().__init__(activity_regularizer=activity_regularizer, **kwargs)\n"
          ]
        },
        {
          "output_type": "stream",
          "name": "stdout",
          "text": [
            "Epoch 1/5\n",
            "\u001b[1m1688/1688\u001b[0m \u001b[32m━━━━━━━━━━━━━━━━━━━━\u001b[0m\u001b[37m\u001b[0m \u001b[1m48s\u001b[0m 28ms/step - accuracy: 0.9100 - loss: 0.3035 - val_accuracy: 0.9883 - val_loss: 0.0406\n",
            "Epoch 2/5\n",
            "\u001b[1m1688/1688\u001b[0m \u001b[32m━━━━━━━━━━━━━━━━━━━━\u001b[0m\u001b[37m\u001b[0m \u001b[1m80s\u001b[0m 26ms/step - accuracy: 0.9863 - loss: 0.0423 - val_accuracy: 0.9888 - val_loss: 0.0360\n",
            "Epoch 3/5\n",
            "\u001b[1m1688/1688\u001b[0m \u001b[32m━━━━━━━━━━━━━━━━━━━━\u001b[0m\u001b[37m\u001b[0m \u001b[1m46s\u001b[0m 27ms/step - accuracy: 0.9917 - loss: 0.0261 - val_accuracy: 0.9900 - val_loss: 0.0335\n",
            "Epoch 4/5\n",
            "\u001b[1m1688/1688\u001b[0m \u001b[32m━━━━━━━━━━━━━━━━━━━━\u001b[0m\u001b[37m\u001b[0m \u001b[1m46s\u001b[0m 27ms/step - accuracy: 0.9942 - loss: 0.0186 - val_accuracy: 0.9870 - val_loss: 0.0526\n",
            "Epoch 5/5\n",
            "\u001b[1m1688/1688\u001b[0m \u001b[32m━━━━━━━━━━━━━━━━━━━━\u001b[0m\u001b[37m\u001b[0m \u001b[1m83s\u001b[0m 28ms/step - accuracy: 0.9950 - loss: 0.0148 - val_accuracy: 0.9913 - val_loss: 0.0324\n",
            "\u001b[1m313/313\u001b[0m \u001b[32m━━━━━━━━━━━━━━━━━━━━\u001b[0m\u001b[37m\u001b[0m \u001b[1m2s\u001b[0m 8ms/step - accuracy: 0.9888 - loss: 0.0367\n",
            "Test Accuracy: 99.14%\n"
          ]
        },
        {
          "output_type": "display_data",
          "data": {
            "text/plain": [
              "<Figure size 640x480 with 1 Axes>"
            ],
            "image/png": "[encoded data removed]"
          },
          "metadata": {}
        },
        {
          "output_type": "stream",
          "name": "stderr",
          "text": [
            "WARNING:tensorflow:6 out of the last 320 calls to <function TensorFlowTrainer.make_predict_function.<locals>.one_step_on_data_distributed at 0x7e0634e3a8e0> triggered tf.function retracing. Tracing is expensive and the excessive number of tracings could be due to (1) creating @tf.function repeatedly in a loop, (2) passing tensors with different shapes, (3) passing Python objects instead of tensors. For (1), please define your @tf.function outside of the loop. For (2), @tf.function has reduce_retracing=True option that can avoid unnecessary retracing. For (3), please refer to https://www.tensorflow.org/guide/function#controlling_retracing and https://www.tensorflow.org/api_docs/python/tf/function for  more details.\n"
          ]
        },
        {
          "output_type": "stream",
          "name": "stdout",
          "text": [
            "\u001b[1m1/1\u001b[0m \u001b[32m━━━━━━━━━━━━━━━━━━━━\u001b[0m\u001b[37m\u001b[0m \u001b[1m0s\u001b[0m 96ms/step\n",
            "Predicted digit: 4\n"
          ]
        }
      ]
    }
  ]
}